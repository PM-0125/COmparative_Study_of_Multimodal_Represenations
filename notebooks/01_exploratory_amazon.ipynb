{
 "cells": [
  {
   "cell_type": "code",
   "execution_count": 1,
   "id": "ef2342cd",
   "metadata": {},
   "outputs": [
    {
     "name": "stdout",
     "output_type": "stream",
     "text": [
      "3240000 400000 360000\n"
     ]
    }
   ],
   "source": [
    "import pandas as pd\n",
    "df = pd.read_csv('/data_vault/COmparative_Study_of_Multimodal_Represenations/data/processed/amazon/train.csv')\n",
    "df1 = pd.read_csv('/data_vault/COmparative_Study_of_Multimodal_Represenations/data/processed/amazon/test.csv')\n",
    "df2= pd.read_csv('/data_vault/COmparative_Study_of_Multimodal_Represenations/data/processed/amazon/val.csv')\n",
    "\n",
    "print(len(df), len(df1), len(df2))"
   ]
  },
  {
   "cell_type": "code",
   "execution_count": null,
   "id": "b2c8d2fd",
   "metadata": {},
   "outputs": [],
   "source": []
  }
 ],
 "metadata": {
  "kernelspec": {
   "display_name": "3.10.14",
   "language": "python",
   "name": "python3"
  },
  "language_info": {
   "codemirror_mode": {
    "name": "ipython",
    "version": 3
   },
   "file_extension": ".py",
   "mimetype": "text/x-python",
   "name": "python",
   "nbconvert_exporter": "python",
   "pygments_lexer": "ipython3",
   "version": "3.10.14"
  }
 },
 "nbformat": 4,
 "nbformat_minor": 5
}
